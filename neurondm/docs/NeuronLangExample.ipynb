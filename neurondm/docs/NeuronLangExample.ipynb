{
 "cells": [
  {
   "cell_type": "markdown",
   "metadata": {},
   "source": [
    "Neuron Lang is a python based DSL for naming neurons. Neurons are modelled as collections of phenotypes with semantics backed by Web Ontology Language (OWL2) classes. Neuron Lang provides tools for mapping to and from collections of local names for phenotypes by using ontology identifiers as the common language underlying all local naming. These tools also let us automatically generate names for neurons in a regular and consistent way using a set of rules operating on the neurons' constitutent phenotypes. Neuron Lang can export to python or to any serialziation supported by rdflib, however [deterministic turtle](https://github.com/tgbugs/pyontutils/blob/master/ttlser/docs/ttlser.md) (ttl) is prefered. Neuron Lang depends on files from the [NIF-Ontology](https://github.com/SciCrunch/NIF-Ontology).\n",
    "\n",
    "This notebook has examples of how to use Neuron Lang to:\n",
    "* Define neurons and phenotypes.\n",
    "* Export all defined neurons.\n",
    "* Use `%scig` magic to search for existing ontology identifiers\n",
    "* Use `LocalNameManager` to create abbreviations for phenotypes.\n",
    "* Bind local names in the current python namespace using `with` or `setLocalNames`.\n",
    "* Creat a phenotype context in which to define neurons using `with` or `setLocalContext`.\n",
    "\n",
    "Please see [the documentation](https://github.com/tgbugs/pyontutils/blob/master/neurondm/docs/neurons_notebook.md) in order to set up a working\n",
    "environment for this notebook."
   ]
  },
  {
   "cell_type": "markdown",
   "metadata": {},
   "source": [
    "## Setup for any file defining neurons"
   ]
  },
  {
   "cell_type": "code",
   "execution_count": 1,
   "metadata": {},
   "outputs": [],
   "source": [
    "from neurondm import *\n",
    "# set predicates in the event that the default config options do not work\n",
    "# if you cloned the NIF-Ontology into a nonstandard location change ontology_local_repo in devconfig.yaml\n",
    "from pyontutils.namespaces import ilxtr as pred\n",
    "from neurondm import phenotype_namespaces as phns\n",
    "\n",
    "config = Config('neuron-lang-notebook')\n",
    "# By default Config saves ontology files in NIF-Ontology/ttl/generated/neurons/\n",
    "# and python files in pyontutils/neurondm/neurondm/compiled/\n",
    "\n",
    "# NOTE: if you call config multiple times any call to Neuron\n",
    "# will be associate with the most recent instance of Config"
   ]
  },
  {
   "cell_type": "code",
   "execution_count": 2,
   "metadata": {},
   "outputs": [],
   "source": [
    "# you can ignore this cell\n",
    "# some utility functions needed for this tutorial\n",
    "# due to the potential for notebooks to run cells out of order\n",
    "def cellguard(addns=False):\n",
    "    # unfortunately ipy.hooks['pre_run_code_hook'].add(__cellguard)\n",
    "    # causes this to be called too frequently :/\n",
    "    setLocalNames()\n",
    "    setLocalContext()\n",
    "    if addns:\n",
    "        setLocalNames(phns.BBP)"
   ]
  },
  {
   "cell_type": "markdown",
   "metadata": {},
   "source": [
    "## Neurons\n",
    "Neuron instances are build out of Phenotype instances.\n",
    "Phenotypes are object-predicate pairs that take curied\n",
    "string representations (or uris) as arguments."
   ]
  },
  {
   "cell_type": "code",
   "execution_count": 3,
   "metadata": {},
   "outputs": [],
   "source": [
    "myFirstNeuron = Neuron(Phenotype('NCBITaxon:10090'),\n",
    "                       Phenotype('UBERON:0000955'))\n",
    "\n",
    "# NOTE: label is cosmetic and will be overwritten by rdfs:label\n",
    "# unless you set override=True\n",
    "\n",
    "myPhenotype = Phenotype('NCBITaxon:9685',           # object\n",
    "                        pred.hasInstanceInSpecies,  # predicate (optional)\n",
    "                        label='Cat')                # label for human readability"
   ]
  },
  {
   "cell_type": "code",
   "execution_count": 4,
   "metadata": {},
   "outputs": [
    {
     "name": "stdout",
     "output_type": "stream",
     "text": [
      "Neuron(Phenotype('NCBITaxon:10090',\n",
      "                 'ilxtr:hasInstanceInSpecies',\n",
      "                 label='Mus musculus'),\n",
      "       Phenotype('UBERON:0000955',\n",
      "                 'ilxtr:hasSomaLocatedIn',\n",
      "                 label='brain'))\n"
     ]
    }
   ],
   "source": [
    "# str and repr produce different results\n",
    "print(myFirstNeuron)"
   ]
  },
  {
   "cell_type": "code",
   "execution_count": 5,
   "metadata": {},
   "outputs": [
    {
     "name": "stdout",
     "output_type": "stream",
     "text": [
      "Neuron(Phenotype('NCBITaxon:10090', 'ilxtr:hasInstanceInSpecies', label='Mus musculus'), Phenotype('UBERON:0000955', 'ilxtr:hasSomaLocatedIn', label='brain'))\n"
     ]
    }
   ],
   "source": [
    "print(repr(myFirstNeuron))  # NOTE: this is equivalent to typing `myFirstNeuron` and running the cell"
   ]
  },
  {
   "cell_type": "markdown",
   "metadata": {},
   "source": [
    "## Viewing and saving\n",
    "Neuron Lang can only be used to add new neurons to a graph.\n",
    "Therefore if you need to remove neruons you need to reset\n",
    "the whole program. For this reason I do not suggest using\n",
    "ipython notebooks since they persist state in ways that can\n",
    "be very confusing when working with a persistent datastore."
   ]
  },
  {
   "cell_type": "code",
   "execution_count": 6,
   "metadata": {
    "scrolled": true
   },
   "outputs": [
    {
     "name": "stdout",
     "output_type": "stream",
     "text": [
      "@prefix : <file:///ERROR/EMPTY/PREFIX/BANNED/> .\n",
      "@prefix ilxtr: <http://uri.interlex.org/tgbugs/uris/readable/> .\n",
      "@prefix NCBITaxon: <http://purl.obolibrary.org/obo/NCBITaxon_> .\n",
      "@prefix owl: <http://www.w3.org/2002/07/owl#> .\n",
      "@prefix prov: <http://www.w3.org/ns/prov#> .\n",
      "@prefix rdf: <http://www.w3.org/1999/02/22-rdf-syntax-ns#> .\n",
      "@prefix rdfs: <http://www.w3.org/2000/01/rdf-schema#> .\n",
      "@prefix SAO: <http://uri.neuinfo.org/nif/nifstd/sao> .\n",
      "@prefix TEMP: <http://uri.interlex.org/temp/uris/> .\n",
      "@prefix UBERON: <http://purl.obolibrary.org/obo/UBERON_> .\n",
      "@prefix xml: <http://www.w3.org/XML/1998/namespace> .\n",
      "@prefix xsd: <http://www.w3.org/2001/XMLSchema#> .\n",
      "\n",
      "<https://raw.githubusercontent.com/SciCrunch/NIF-Ontology/neurons/ttl/generated/neurons/neuron-lang-notebook.ttl> a owl:Ontology ;\n",
      "    owl:imports <https://raw.githubusercontent.com/SciCrunch/NIF-Ontology/neurons/ttl/phenotype-core.ttl>,\n",
      "        <https://raw.githubusercontent.com/SciCrunch/NIF-Ontology/neurons/ttl/phenotypes.ttl> ;\n",
      "    prov:wasGeneratedBy <https://github.com/tgbugs/pyontutils/blob/f8c3c5c5a3ac8b259009d30153214fb056a13274/neurondm/neurondm/core.py#L555> .\n",
      "\n",
      "### Classes\n",
      "\n",
      "TEMP:0-p0-NCBITaxon-10090-0-p3-UBERON-0000955 a owl:Class ;\n",
      "    owl:equivalentClass [ a owl:Class ;\n",
      "            owl:intersectionOf (\n",
      "                    SAO:1417703748\n",
      "                    [ a owl:Restriction ;\n",
      "                        owl:onProperty ilxtr:hasInstanceInSpecies ;\n",
      "                        owl:someValuesFrom NCBITaxon:10090 ]\n",
      "                    [ a owl:Restriction ;\n",
      "                        owl:onProperty ilxtr:hasSomaLocatedIn ;\n",
      "                        owl:someValuesFrom UBERON:0000955 ] ) ] ;\n",
      "    rdfs:label \"Mus musculus brain neuron\" .\n",
      "\n",
      "### Serialized using the pyontutils deterministic serializer v1.2.0\n",
      "\n"
     ]
    }
   ],
   "source": [
    "# view the turtle (ttl) serialization of all neurons\n",
    "turtle = config.ttl()\n",
    "print(turtle)"
   ]
  },
  {
   "cell_type": "code",
   "execution_count": 7,
   "metadata": {},
   "outputs": [
    {
     "name": "stdout",
     "output_type": "stream",
     "text": [
      "#!/usr/bin/env python3.7\n",
      "from neurondm.core import *\n",
      "\n",
      "config = Config('neuron-lang-notebook')\n",
      "\n",
      "# Mus musculus brain neuron\n",
      "Neuron(Phenotype('NCBITaxon:10090',\n",
      "                 'ilxtr:hasInstanceInSpecies',\n",
      "                 label='Mus musculus'),\n",
      "       Phenotype('UBERON:0000955',\n",
      "                 'ilxtr:hasSomaLocatedIn',\n",
      "                 label='brain'))\n"
     ]
    }
   ],
   "source": [
    "# view the python serialization of all neurons for the current config\n",
    "python = config.python()\n",
    "print(python)"
   ]
  },
  {
   "cell_type": "code",
   "execution_count": 8,
   "metadata": {},
   "outputs": [],
   "source": [
    "# write the turtle file defined in cell 1\n",
    "config.write()"
   ]
  },
  {
   "cell_type": "code",
   "execution_count": 9,
   "metadata": {},
   "outputs": [],
   "source": [
    "# write a python file that has the same name as the file in cell 1\n",
    "# but with python safe separators and a .py extension\n",
    "config.write_python()"
   ]
  },
  {
   "cell_type": "code",
   "execution_count": 10,
   "metadata": {
    "scrolled": true
   },
   "outputs": [
    {
     "data": {
      "text/plain": [
       "[Neuron(Phenotype('NCBITaxon:10090', 'ilxtr:hasInstanceInSpecies', label='Mus musculus'), Phenotype('UBERON:0000955', 'ilxtr:hasSomaLocatedIn', label='brain'))]"
      ]
     },
     "execution_count": 10,
     "metadata": {},
     "output_type": "execute_result"
    }
   ],
   "source": [
    "# view a list of all neurons for the current config\n",
    "config.neurons()"
   ]
  },
  {
   "cell_type": "markdown",
   "metadata": {},
   "source": [
    "## scig\n",
    "When creating neurons we want to be able to find relevant identifiers  \n",
    "quickly while working. There is a cli utility called scig that can be  \n",
    "used as a cell magic `%scig` to search a SciGraph instance for terms."
   ]
  },
  {
   "cell_type": "code",
   "execution_count": 11,
   "metadata": {},
   "outputs": [
    {
     "name": "stdout",
     "output_type": "stream",
     "text": [
      "Look look up ontology terms on the command line.\n",
      "\n",
      "Usage:\n",
      "    scig v [--local --verbose --key=KEY] <id>...\n",
      "    scig i [--local --verbose --key=KEY] <id>...\n",
      "    scig t [--local --verbose --limit=LIMIT --key=KEY --prefix=P...] <term>...\n",
      "    scig s [--local --verbose --limit=LIMIT --key=KEY --prefix=P...] <term>...\n",
      "    scig g [--local --verbose --rt=RELTYPE --edges --key=KEY] <id>...\n",
      "    scig e [--local --verbose --key=KEY] <p> <s> <o>\n",
      "    scig c [--local --verbose --key=KEY]\n",
      "    scig cy [--verbose --limit=LIMIT] <query>\n",
      "    scig onts [options]\n",
      "\n",
      "Options:\n",
      "    -e --edges          print edges only\n",
      "    -l --local          hit the local scigraph server\n",
      "    -v --verbose        print the full uri\n",
      "    -t --limit=LIMIT    limit number of results [default: 10]\n",
      "    -k --key=KEY        api key\n",
      "    -w --warn           warn on errors\n",
      "    -p --prefix=P...    filter by prefix\n"
     ]
    }
   ],
   "source": [
    "import neurondm.lang\n",
    "\n",
    "%scig --help"
   ]
  },
  {
   "cell_type": "code",
   "execution_count": 12,
   "metadata": {},
   "outputs": [
    {
     "name": "stdout",
     "output_type": "stream",
     "text": [
      "hippocampus\n",
      "http://localhost:9000/scigraph/vocabulary/term/hippocampus?limit=1\n",
      "\tUBERON:0001954\n",
      "\t\tabbreviations: []\n",
      "\t\tacronyms: []\n",
      "\t\tcategories: ['anatomical entity']\n",
      "\t\tdefinitions: ['A part of the brain consisting of a three layered cortex located in the forebrain bordering the medial surface of the lateral ventricle. The term hippocampus is often used synonymously with hippocampal formation which consists of the hippocampus proper or Cornu Ammonis, the dentate gyrus and the subiculum.']\n",
      "\t\tdeprecated: False\n",
      "\t\tiri: http://purl.obolibrary.org/obo/UBERON_0001954\n",
      "\t\tlabels: [\"Ammon's horn\"]\n",
      "\t\tsynonyms: ['ammon horn', 'ammon gyrus', 'cornu ammonis', 'hippocampus proprius', 'hippocampus', \"Ammon's horn\", 'hippocampus proper', 'hippocampus major', 'Ammons horn', 'Ammon horn fields']\n",
      "\n"
     ]
    }
   ],
   "source": [
    "# use -t to limit the number of results\n",
    "%scig -t 1 t hippocampus -v"
   ]
  },
  {
   "cell_type": "code",
   "execution_count": 13,
   "metadata": {},
   "outputs": [
    {
     "name": "stdout",
     "output_type": "stream",
     "text": [
      "macaca mulatta\n",
      "\tNCBITaxon:9544\n",
      "\t\tabbreviations: []\n",
      "\t\tacronyms: []\n",
      "\t\tcategories: ['organism']\n",
      "\t\tdefinitions: []\n",
      "\t\tdeprecated: False\n",
      "\t\tiri: http://purl.obolibrary.org/obo/NCBITaxon_9544\n",
      "\t\tlabels: ['Macaca mulatta']\n",
      "\t\tsynonyms: ['Rhesus monkey', 'rhesus macaque', 'rhesus monkeys', 'rhesus macaques']\n",
      "\n"
     ]
    }
   ],
   "source": [
    "# you can escape spaces with \\\n",
    "%scig t macaca\\ mulatta"
   ]
  },
  {
   "cell_type": "code",
   "execution_count": 14,
   "metadata": {},
   "outputs": [
    {
     "name": "stdout",
     "output_type": "stream",
     "text": [
      "nucleus basalis of meynert\n",
      "\tSAO:1702920020\n",
      "\t\tabbreviations: []\n",
      "\t\tacronyms: []\n",
      "\t\tcategories: []\n",
      "\t\tdefinitions: ['A membrane-bounded organelle of eukaryotic cells that contains the chromosomes. It is the primary site of DNA replication and RNA synthesis in the cell (Gene Ontology).']\n",
      "\t\tdeprecated: False\n",
      "\t\tiri: http://uri.neuinfo.org/nif/nifstd/sao1702920020\n",
      "\t\tlabels: ['Nucleus']\n",
      "\t\tsynonyms: []\n",
      "\n"
     ]
    }
   ],
   "source": [
    "# quotes also allow search with spaces\n",
    "%scig -t 1 s 'nucleus basalis of meynert'"
   ]
  },
  {
   "cell_type": "code",
   "execution_count": 15,
   "metadata": {},
   "outputs": [
    {
     "name": "stdout",
     "output_type": "stream",
     "text": [
      "cat\n",
      "\tGO:0004096\n",
      "\t\tabbreviations: []\n",
      "\t\tacronyms: []\n",
      "\t\tcategories: []\n",
      "\t\tdefinitions: ['Catalysis of the reaction: 2 hydrogen peroxide = O2 + 2 H2O.']\n",
      "\t\tdeprecated: False\n",
      "\t\tiri: http://purl.obolibrary.org/obo/GO_0004096\n",
      "\t\tlabels: ['catalase activity']\n",
      "\t\tsynonyms: ['catalase-peroxidase activity', 'optidase activity', 'hydrogen-peroxide:hydrogen-peroxide oxidoreductase activity', 'equilase activity', 'haem catalase activity', 'caperase activity', 'catalase reaction', 'CAT', 'manganese catalase activity', 'heme catalase activity', 'bacterial catalase-peroxidase activity']\n",
      "\n",
      "mouse\n",
      "\tBIRNLEX:167\n",
      "\t\tabbreviations: []\n",
      "\t\tacronyms: []\n",
      "\t\tcategories: ['organism']\n",
      "\t\tdefinitions: []\n",
      "\t\tdeprecated: False\n",
      "\t\tiri: http://uri.neuinfo.org/nif/nifstd/birnlex_167\n",
      "\t\tlabels: ['Mouse']\n",
      "\t\tsynonyms: ['mouse', 'Mus musculus', 'house mouse']\n",
      "\n"
     ]
    }
   ],
   "source": [
    "# without quotes scig will search multiple terms at once\n",
    "%scig -t 1 t cat mouse"
   ]
  },
  {
   "cell_type": "markdown",
   "metadata": {},
   "source": [
    "## Accessing SciGraph directly from python"
   ]
  },
  {
   "cell_type": "code",
   "execution_count": 16,
   "metadata": {
    "scrolled": true
   },
   "outputs": [
    {
     "name": "stdout",
     "output_type": "stream",
     "text": [
      "synonyms: ['homotypical cortex', 'isocortex', 'neopallium']\n",
      "subjects: UBERON:0017631 UBERON:0003547 UBERON:0022776 UBERON:0001058 UBERON:0010403 UBERON:0003544 UBERON:0002616 UBERON:0005838 UBERON:0013694 UBERON:0013146 UBERON:0003947 UBERON:6003626 UBERON:0010009 UBERON:0006795 UBERON:0005075 UBERON:0013118 UBERON:0001059 UBERON:0007702 UBERON:0008998 UBERON:0000454 UBERON:0003053 UBERON:0006796 UBERON:0003052 UBERON:0005282 UBERON:0003528 UBERON:0000315\n"
     ]
    }
   ],
   "source": [
    "from pyontutils.scigraph_client import Graph, Vocabulary\n",
    "\n",
    "sgg = Graph()\n",
    "sgv = Vocabulary()\n",
    "\n",
    "terms = sgv.findByTerm('neocortex')\n",
    "nodes_edges = sgg.getNeighbors('UBERON:0000955', \n",
    "                               relationshipType='BFO:0000050',  # part of\n",
    "                               direction='INCOMING')\n",
    "print('synonyms:', terms[0]['synonyms'])\n",
    "print('subjects:', *(e['sub'] for e in nodes_edges['edges']))"
   ]
  },
  {
   "cell_type": "markdown",
   "metadata": {},
   "source": [
    "## Namespaces - context managers\n",
    "We can be more concise by creating a namespace for our phenotype names.  \n",
    "Normally these are defined in another file (e.g. [phenotype_namespaces.py](https://github.com/tgbugs/pyontutils/blob/master/neurondm/neurondm/phenotype_namespaces.py)) so that they can be shared and reused.\n",
    "\n",
    "NOTE: for a full explication of phenotype namespaces see [neurondm/example.py](https://github.com/tgbugs/pyontutils/blob/master/neurondm/neurondm/example.py#L20)\n"
   ]
  },
  {
   "cell_type": "code",
   "execution_count": 17,
   "metadata": {
    "scrolled": false
   },
   "outputs": [
    {
     "name": "stdout",
     "output_type": "stream",
     "text": [
      "class myPhenotypeNames(LocalNameManager):\n",
      "    Mouse    = Phenotype('NCBITaxon:10090', 'ilxtr:hasInstanceInSpecies', label='Mus musculus')\n",
      "    PV       = Phenotype('PR:000013502', 'ilxtr:hasExpressionPhenotype', label='parvalbumin alpha')\n",
      "    Rat      = Phenotype('NCBITaxon:10116', 'ilxtr:hasInstanceInSpecies', label='Rattus norvegicus')\n",
      "    brain    = Phenotype('UBERON:0000955', 'ilxtr:hasSomaLocatedIn', label='brain')\n",
      "\u001b[31mprint inside unchanged:\u001b[0m\n",
      "Neuron(Phenotype('NCBITaxon:10116',\n",
      "                 'ilxtr:hasInstanceInSpecies',\n",
      "                 label='Rattus norvegicus'),\n",
      "       Phenotype('UBERON:0000955',\n",
      "                 'ilxtr:hasSomaLocatedIn',\n",
      "                 label='brain'),\n",
      "       Phenotype('PR:000013502',\n",
      "                 'ilxtr:hasExpressionPhenotype',\n",
      "                 label='parvalbumin alpha'))\n",
      "\u001b[31mrepr inside inside:\u001b[0m Neuron(Rat, brain, PV)\n",
      "\u001b[31mrepr outside inside:\u001b[0m Neuron(Mouse, brain)\n",
      "\u001b[31mrepr inside outside:\u001b[0m Neuron(Phenotype('NCBITaxon:10116', 'ilxtr:hasInstanceInSpecies', label='Rattus norvegicus'), Phenotype('UBERON:0000955', 'ilxtr:hasSomaLocatedIn', label='brain'), Phenotype('PR:000013502', 'ilxtr:hasExpressionPhenotype', label='parvalbumin alpha'))\n",
      "\u001b[34mRat fails as expected.\u001b[0m\n"
     ]
    }
   ],
   "source": [
    "from neurondm import LocalNameManager\n",
    "from pyontutils.utils import TermColors as tc  # pretty printing that is not part of this tutorial\n",
    "\n",
    "class myPhenotypeNames(LocalNameManager):  # see neurons.LocalNameManager\n",
    "    Mouse = Phenotype('NCBITaxon:10090', pred.hasInstanceInSpecies)\n",
    "    Rat = Phenotype('NCBITaxon:10116', pred.hasInstanceInSpecies)\n",
    "    brain = Phenotype('UBERON:0000955', pred.hasSomaLocatedIn)\n",
    "    PV = Phenotype('PR:000013502', pred.hasExpressionPhenotype)\n",
    "    \n",
    "# you can see all the mappings in a local name manager by printing it or repring it\n",
    "print(myPhenotypeNames)\n",
    "\n",
    "# with a context manager we can use a namespace to create neurons\n",
    "# more concisely and more importantly to repr them more concisely\n",
    "\n",
    "with myPhenotypeNames:\n",
    "    n = Neuron(Rat, brain, PV)\n",
    "    \n",
    "    # printing is unaffected so the fully expanded form is always\n",
    "    # accessible (__str__ vs __repr__)\n",
    "    print(tc.red('print inside unchanged:'), n, sep='\\n')\n",
    "    \n",
    "    print(tc.red('repr inside inside:'), repr(n))\n",
    "    \n",
    "    # we can also repr a neuron defined elsewhere using our own names\n",
    "    \n",
    "    print(tc.red('repr outside inside:'), repr(myFirstNeuron))\n",
    "\n",
    "# outside the context manager our concise repr is gone\n",
    "print(tc.red('repr inside outside:'), repr(n))\n",
    "\n",
    "# in addition we will now get a NameError of we try to use bare words\n",
    "try: Neuron(Rat)\n",
    "except NameError: print(tc.blue('Rat fails as expected.'))"
   ]
  },
  {
   "cell_type": "markdown",
   "metadata": {},
   "source": [
    "## Namespaces 2 - global modification"
   ]
  },
  {
   "cell_type": "code",
   "execution_count": 18,
   "metadata": {},
   "outputs": [
    {
     "name": "stdout",
     "output_type": "stream",
     "text": [
      "\u001b[31mNamespaces:\u001b[0m ['Test', 'Layers', 'PaxRatLayers', 'Regions', 'PaxRatRegions', 'Species', 'BBP', 'CUT']\n",
      "\u001b[31mThe error:\u001b[0m Mapping between LocalNames and phenotypes must be injective.\n",
      "Cannot cannot bind 'LOOK_AT_THE_CUTE_LITTLE_GUY' to Phenotype('NCBITaxon:10116', 'ilxtr:hasInstanceInSpecies', label='Rattus norvegicus').\n",
      "It is already bound to 'Rat'\n",
      "\u001b[31mMore species:\u001b[0m\n",
      "Neuron(Phenotype('NCBITaxon:9685',\n",
      "                 'ilxtr:hasInstanceInSpecies',\n",
      "                 label='Felis catus'),\n",
      "       Phenotype('UBERON:0005391',\n",
      "                 'ilxtr:hasLayerLocationPhenotype',\n",
      "                 label='cortical layer II'),\n",
      "       Phenotype('CHEBI:15355',\n",
      "                 'ilxtr:hasExpressionPhenotype',\n",
      "                 label='acetylcholine'))\n",
      "Neuron(Phenotype('NCBITaxon:9685',\n",
      "                 'ilxtr:hasInstanceInSpecies',\n",
      "                 label='Felis catus'),\n",
      "       Phenotype('UBERON:0005392',\n",
      "                 'ilxtr:hasLayerLocationPhenotype',\n",
      "                 label='cortical layer III'),\n",
      "       NegPhenotype('CHEBI:15355',\n",
      "                    'ilxtr:hasExpressionPhenotype',\n",
      "                    label='acetylcholine'))\n",
      "\u001b[31mDirect usage:\u001b[0m\n",
      "Neuron(Phenotype('NCBITaxon:10090',\n",
      "                 'ilxtr:hasInstanceInSpecies',\n",
      "                 label='Mus musculus'),\n",
      "       Phenotype('CHEBI:15355',\n",
      "                 'ilxtr:hasExpressionPhenotype',\n",
      "                 label='acetylcholine'))\n",
      "\u001b[31mgetLocalNames:\u001b[0m ['CA1', 'CA2', 'CA3', 'CTX', 'L1', 'L2', 'L23', 'L3', 'L4', 'L5', 'L56', 'L6', 'Mouse', 'Rat', 'S1', 'SLA', 'SLM', 'SLU', 'SO', 'SPy', 'SR', 'V1', 'brain', 'setBy_MoreSpecies']\n",
      "\u001b[34mNeuron(Mouse, PV) fails as expected\u001b[0m\n"
     ]
    }
   ],
   "source": [
    "cellguard()\n",
    "\n",
    "# there are already many namespaces defined in phenotype_namespaces.py\n",
    "print(tc.red('Namespaces:'), phns.__all__)\n",
    "\n",
    "# setLocalNames adds any names from a namespace to the current namespace\n",
    "setLocalNames(phns.Species)\n",
    "\n",
    "# we can load additional names\n",
    "setLocalNames(phns.Regions, phns.Layers)\n",
    "\n",
    "# however we will get a ValueError on a conflict\n",
    "try:\n",
    "    setLocalNames(phns.Test)\n",
    "except ValueError as e:\n",
    "    print(tc.red('The error:'), e)\n",
    "\n",
    "# we can extend namespaces as well (again, best in a separate file)\n",
    "# as long as the local names match we can combine entries\n",
    "class MoreSpecies(phns.Species, myPhenotypeNames):\n",
    "    Cat = myPhenotype\n",
    "    ACh = Phenotype('CHEBI:15355', pred.hasExpressionPhenotype)\n",
    "    AChMinus = NegPhenotype(ACh)\n",
    "    \n",
    "with MoreSpecies:\n",
    "    can = Neuron(Cat, ACh, L2)\n",
    "    cant = Neuron(Cat, AChMinus, L3)\n",
    "    print(tc.red('More species:'), can, cant, sep='\\n')\n",
    "\n",
    "# we can also refer to phenotypes in a namespace directly\n",
    "n = Neuron(Mouse, MoreSpecies.ACh)\n",
    "print(tc.red('Direct usage:'), n, sep='\\n')\n",
    "\n",
    "# getLocalNames can be used to inspect the current set of defined names\n",
    "print(tc.red('getLocalNames:'), sorted(getLocalNames().keys()))\n",
    "\n",
    "# clear the local names by calling setLocalNames with no arguments\n",
    "setLocalNames()\n",
    "\n",
    "# no more short names ;_;\n",
    "try: Neuron(Mouse, PV)\n",
    "except NameError: print(tc.blue('Neuron(Mouse, PV) fails as expected'))\n",
    "\n",
    "# for the rest of these examples we will use the BBP namespace\n",
    "setLocalNames(phns.BBP)\n",
    "\n",
    "\n",
    "# define neurons using our local names\n",
    "Neuron(Mouse, L23, CCK, NPY)\n",
    "Neuron(Mouse, brain, L3, PV)\n",
    "Neuron(PV, DA)\n",
    "\n",
    "cellguard()"
   ]
  },
  {
   "cell_type": "markdown",
   "metadata": {},
   "source": [
    "## Context - context managers"
   ]
  },
  {
   "cell_type": "code",
   "execution_count": 19,
   "metadata": {},
   "outputs": [
    {
     "name": "stdout",
     "output_type": "stream",
     "text": [
      "\u001b[31mexample 1:\u001b[0m\n",
      "Neuron(Rat, CA1, CCK)\n",
      "Neuron(Rat, CA1, NPY)\n",
      "Neuron(Rat, CA1, PC)\n",
      "\n",
      "\u001b[31mexample 2:\u001b[0m\n",
      "(Phenotype('NCBITaxon:10116', 'ilxtr:hasInstanceInSpecies', label='Rattus norvegicus'), Phenotype('PAXRAT:322', 'ilxtr:hasSomaLocatedIn', label='field CA1 of the hippocampus (paxrat)'))\n",
      "\n",
      "\u001b[31merror when setting context:\u001b[0m Cannot change the context of an instantiated neuron. \n",
      "\n",
      "\u001b[31mexample 3:\u001b[0m\n",
      "Neuron(Mouse)\n",
      "Neuron(Mouse, CCK)\n",
      "\n",
      "\u001b[31mneuron ok:\u001b[0m\n",
      "Neuron(Phenotype('NCBITaxon:10116',\n",
      "                 'ilxtr:hasInstanceInSpecies',\n",
      "                 label='Rattus norvegicus'))\n",
      "\n",
      "\u001b[34mNeuron(Rat, Mouse) fails as expected\n",
      "\u001b[0m\n",
      "\u001b[31mexample 4:\u001b[0m\n",
      "Neuron(Rat, CA1, PC)\n",
      "Neuron(Rat, CA1, PC, VIP)\n",
      "Neuron(Mouse, CCK)\n",
      "Neuron(Mouse, CCK, SOM)\n",
      "Neuron(Rat, CA1, SLM, PC)\n",
      "Neuron(Rat, CA1, SLM, PC, SOM)\n",
      "Neuron(Rat, CA1, PC, SOM)\n",
      "Neuron(Phenotype('NCBITaxon:10116',\n",
      "                 'ilxtr:hasInstanceInSpecies',\n",
      "                 label='Rattus norvegicus'),\n",
      "       Phenotype('UBERON:0001950',\n",
      "                 'ilxtr:hasSomaLocatedIn',\n",
      "                 label='neocortex'))\n",
      "Neuron(Phenotype('NCBITaxon:10116',\n",
      "                 'ilxtr:hasInstanceInSpecies',\n",
      "                 label='Rattus norvegicus'),\n",
      "       Phenotype('UBERON:0001950',\n",
      "                 'ilxtr:hasSomaLocatedIn',\n",
      "                 label='neocortex'),\n",
      "       Phenotype('PAXRAT:509',\n",
      "                 'ilxtr:hasLayerLocationPhenotype',\n",
      "                 label='layer 1 (paxrat)'))\n"
     ]
    }
   ],
   "source": [
    "cellguard(True)\n",
    "\n",
    "# we often want to create many neurons in the same contex\n",
    "# the easiest way to do this is to use a instance of a neuron\n",
    "# as the input to a context manager\n",
    "with Neuron(Rat, CA1):\n",
    "    n1 = Neuron(CCK)\n",
    "    n2 = Neuron(NPY)\n",
    "    n3 = Neuron(PC)\n",
    "\n",
    "# neurons always retain the context they were created in\n",
    "print(tc.red('example 1:'), *map(repr, (n1, n2, n3)), '', sep='\\n')\n",
    "\n",
    "# you cannot change a neuron's context but you can see its original context\n",
    "print(tc.red('example 2:'), n3.context, '', sep='\\n')\n",
    "try:\n",
    "    n3.context = Neuron(Mouse, CA2)\n",
    "except TypeError as e:\n",
    "    print(tc.red('error when setting context:'), e, '\\n')\n",
    "\n",
    "# you can also use with as syntax when creating a context\n",
    "with Neuron(Mouse) as n4:\n",
    "    n5 = Neuron(CCK)\n",
    "\n",
    "print(tc.red('example 3:'), *map(repr, (n4, n5)), '', sep='\\n')\n",
    "\n",
    "# contexts cannot violate disjointness axioms\n",
    "try:\n",
    "    with Neuron(Rat):\n",
    "        print(tc.red('neuron ok:'), Neuron(), '', sep='\\n')\n",
    "        with Neuron(Mouse):\n",
    "            print('This will not print')\n",
    "except TypeError: print(tc.blue('Neuron(Rat, Mouse) fails as expected\\n'))\n",
    "\n",
    "# if you define a new neuron inside a context it will carry\n",
    "# that context with it if used to define a new context\n",
    "\n",
    "# context does not nest for neurons defined outside a with\n",
    "\n",
    "with n3:\n",
    "    n6 = Neuron(VIP)\n",
    "    with n5:                 # defined outside does not nest\n",
    "        n7 = Neuron(SOM)\n",
    "    with Neuron(SLM) as n8:  # defined inside nests\n",
    "        n9 = Neuron(SOM)\n",
    "    n10 = Neuron(SOM)\n",
    "\n",
    "print(tc.red('example 4:'), *map(repr, (n3, n6, n5, n7, n8, n9, n10)), sep='\\n')\n",
    "\n",
    "# \n",
    "with Neuron(Rat), Neuron(CTX) as context:\n",
    "    print(context)\n",
    "    n11 = Neuron(L1)\n",
    "    print(n11)\n",
    "\n",
    "cellguard()"
   ]
  },
  {
   "cell_type": "markdown",
   "metadata": {},
   "source": [
    "## Context 2 - global modification"
   ]
  },
  {
   "cell_type": "code",
   "execution_count": 20,
   "metadata": {
    "scrolled": false
   },
   "outputs": [
    {
     "name": "stdout",
     "output_type": "stream",
     "text": [
      "\u001b[31mcreated with context:\u001b[0m Neuron(CA1, SPy, TPC, DA, CCK, NPY, SOM)\n",
      "\u001b[34mNeuron(S1, CA1) fails as expected\u001b[0m Disjointness violated for http://uri.interlex.org/tgbugs/uris/readable/hasSomaLocatedIn due to [Phenotype('PAXRAT:322', 'ilxtr:hasSomaLocatedIn', label='field CA1 of the hippocampus (paxrat)'), Phenotype('PAXRAT:794', 'ilxtr:hasSomaLocatedIn', label='primary somatosensory cortex (paxrat)')]\n",
      "\u001b[31mSuccess:\u001b[0m Neuron(Rat, S1, L4, PC)\n",
      "\u001b[31mgetLocalContext:\u001b[0m CA1 SPy DA CCK NPY SOM\n",
      "\u001b[31mno context:\u001b[0m Neuron(brain)\n"
     ]
    }
   ],
   "source": [
    "cellguard(True)\n",
    "\n",
    "# like namespaces you can also set a persistent local context\n",
    "context0 = Neuron(CCK, NPY, SOM, DA, CA1, SPy)\n",
    "context1 = Neuron(Rat, S1, L4)\n",
    "setLocalContext(context0)\n",
    "print(tc.red('created with context:'), repr(Neuron(TPC)))\n",
    "\n",
    "# contexts are addative\n",
    "# to change context using a Neuron you need to setLocalContext() first\n",
    "\n",
    "# without resetting we get a disjointness error\n",
    "try: setLocalContext(Neuron(Rat, S1, L4))\n",
    "except TypeError as e: print(tc.blue('Neuron(S1, CA1) fails as expected'), e)\n",
    "    \n",
    "# reset\n",
    "setLocalContext()\n",
    "\n",
    "# now we will not get an error\n",
    "setLocalContext(Neuron(Rat, S1, L4))\n",
    "print(tc.red('Success:'), repr(Neuron(PC)))\n",
    "\n",
    "# a neuron declared in a different context can be used to change the context withour resetting\n",
    "# if you know in advance that you will be dealing with multiple contexts, I suggest you\n",
    "# create all of those context neurons first so that they are available when needed\n",
    "setLocalContext(context0)\n",
    "\n",
    "# like namespaces call getLocalContext to see the current context\n",
    "print(tc.red('getLocalContext:'), *(p.pShortName for p in getLocalContext()))\n",
    "\n",
    "# like namespaces calling setLocalContext without arguments clears context\n",
    "setLocalContext()\n",
    "print(tc.red('no context:'), repr(Neuron(brain)))\n",
    "\n",
    "cellguard()"
   ]
  },
  {
   "cell_type": "markdown",
   "metadata": {},
   "source": [
    "## Context 3 - the old way"
   ]
  },
  {
   "cell_type": "code",
   "execution_count": 21,
   "metadata": {},
   "outputs": [],
   "source": [
    "cellguard(True)\n",
    "\n",
    "context = (Rat, S1)\n",
    "ca1_context = (Rat, CA1)\n",
    "\n",
    "def NeuronC(*args, **kwargs):\n",
    "    return Neuron(*args, *context, **kwargs)\n",
    "\n",
    "def NeuronH(*args, **kwargs):\n",
    "    return Neuron(*args, *ca1_context, **kwargs)\n",
    "\n",
    "neurons = {\n",
    "    'HBP_CELL:0000013': NeuronC(CCK),\n",
    "    'HBP_CELL:0000016': NeuronC(PV),\n",
    "    'HBP_CELL:0000018': NeuronC(PC),\n",
    "    'HBP_CELL:0000135': NeuronH(SLM, PPA),\n",
    "    'HBP_CELL:0000136': NeuronH(SO, BP),\n",
    "    'HBP_CELL:0000137': NeuronH(SPy, BS),\n",
    "    'HBP_CELL:0000148': Neuron(Rat, STRI, MSN, D1),\n",
    "    'HBP_CELL:0000149': Neuron(Rat, CA3, PC),\n",
    "        }\n",
    "neurons['HBP_CELL:0000013']\n",
    "\n",
    "cellguard()"
   ]
  },
  {
   "cell_type": "markdown",
   "metadata": {},
   "source": [
    "## Disjointness\n",
    "Neuron Lang enforces basic disjointness on phenotypes of 'data' level neurons\n"
   ]
  },
  {
   "cell_type": "code",
   "execution_count": 22,
   "metadata": {},
   "outputs": [
    {
     "name": "stdout",
     "output_type": "stream",
     "text": [
      "\u001b[34mNeuron(Mouse, Rat) fails as expected\u001b[0m\n",
      "Disjointness violated for http://uri.interlex.org/tgbugs/uris/readable/hasInstanceInSpecies due to [Phenotype('NCBITaxon:10090', 'ilxtr:hasInstanceInSpecies', label='Mus musculus'), Phenotype('NCBITaxon:10116', 'ilxtr:hasInstanceInSpecies', label='Rattus norvegicus')]\n"
     ]
    }
   ],
   "source": [
    "cellguard(True)\n",
    "\n",
    "try: Neuron(Mouse, Rat)\n",
    "except TypeError as e: print(tc.blue('Neuron(Mouse, Rat) fails as expected'), e, sep='\\n')\n",
    "    \n",
    "cellguard()"
   ]
  }
 ],
 "metadata": {
  "kernelspec": {
   "display_name": "Python 3",
   "language": "python",
   "name": "python3"
  },
  "language_info": {
   "codemirror_mode": {
    "name": "ipython",
    "version": 3
   },
   "file_extension": ".py",
   "mimetype": "text/x-python",
   "name": "python",
   "nbconvert_exporter": "python",
   "pygments_lexer": "ipython3",
   "version": "3.6.8"
  }
 },
 "nbformat": 4,
 "nbformat_minor": 2
}
