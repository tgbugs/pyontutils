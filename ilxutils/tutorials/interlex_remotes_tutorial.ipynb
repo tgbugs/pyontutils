{
 "cells": [
  {
   "cell_type": "markdown",
   "metadata": {},
   "source": [
    "# INSTALL\n",
    "- WARNING ::: ONLY DO ONCE \n",
    "    - update devconfig in ~/.config/pyontutils/devonfig.yaml\n",
    "        - scigraph_api: http://scigraph.scicrunch.io:9000/scigraph\n",
    "    - Install both pyontutils and ilxutils with pyontutils\n",
    "        - cd ~/git/pyontutils\n",
    "        - pip3 install --user --editable .\n",
    "        - cd ~/git/pyontutils/ilxutils/\n",
    "        - pip3 install --user --editable .\n",
    "    - Clone ontquery and install\n",
    "        - cd ~/git\n",
    "        - git clone https://github.com/tgbugs/ontquery.git\n",
    "        - cd ~/git/ontquery\n",
    "        - pip3 install --user --editable ."
   ]
  },
  {
   "cell_type": "markdown",
   "metadata": {},
   "source": [
    "# Maintainance\n",
    "- update repos\n",
    "    - cd ~/git/pyontutils\n",
    "    - git pull \n",
    "    - cd ~/git/ontquery\n",
    "    - git pull"
   ]
  },
  {
   "cell_type": "markdown",
   "metadata": {},
   "source": [
    "# Google Sheets Import\n",
    "### Need pyontutils secrets.yaml setup first!"
   ]
  },
  {
   "cell_type": "code",
   "execution_count": 1,
   "metadata": {},
   "outputs": [
    {
     "ename": "AttributeError",
     "evalue": "'NoneType' object has no attribute 'exists'",
     "output_type": "error",
     "traceback": [
      "\u001b[0;31m---------------------------------------------------------------------------\u001b[0m",
      "\u001b[0;31mAttributeError\u001b[0m                            Traceback (most recent call last)",
      "\u001b[0;32m<ipython-input-1-f41d3fde83d8>\u001b[0m in \u001b[0;36m<module>\u001b[0;34m\u001b[0m\n\u001b[1;32m      9\u001b[0m     \u001b[0mfetch_grid\u001b[0m \u001b[0;34m=\u001b[0m \u001b[0;32mTrue\u001b[0m \u001b[0;31m# meta data in self.grid that has detials like bolding\u001b[0m\u001b[0;34m\u001b[0m\u001b[0;34m\u001b[0m\u001b[0m\n\u001b[1;32m     10\u001b[0m \u001b[0;34m\u001b[0m\u001b[0m\n\u001b[0;32m---> 11\u001b[0;31m \u001b[0mbrainstem\u001b[0m \u001b[0;34m=\u001b[0m \u001b[0mBrainstem\u001b[0m\u001b[0;34m(\u001b[0m\u001b[0;34m)\u001b[0m\u001b[0;34m\u001b[0m\u001b[0;34m\u001b[0m\u001b[0m\n\u001b[0m\u001b[1;32m     12\u001b[0m \u001b[0mdf\u001b[0m \u001b[0;34m=\u001b[0m \u001b[0mpd\u001b[0m\u001b[0;34m.\u001b[0m\u001b[0mDataFrame\u001b[0m\u001b[0;34m(\u001b[0m\u001b[0mbrainstem\u001b[0m\u001b[0;34m.\u001b[0m\u001b[0mraw_values\u001b[0m\u001b[0;34m)\u001b[0m\u001b[0;34m\u001b[0m\u001b[0;34m\u001b[0m\u001b[0m\n\u001b[1;32m     13\u001b[0m \u001b[0mdf\u001b[0m\u001b[0;34m.\u001b[0m\u001b[0mcolumns\u001b[0m \u001b[0;34m=\u001b[0m \u001b[0mdf\u001b[0m\u001b[0;34m.\u001b[0m\u001b[0miloc\u001b[0m\u001b[0;34m[\u001b[0m\u001b[0;36m0\u001b[0m\u001b[0;34m]\u001b[0m\u001b[0;34m\u001b[0m\u001b[0;34m\u001b[0m\u001b[0m\n",
      "\u001b[0;32m~/Dropbox/git/pyontutils/pyontutils/sheets.py\u001b[0m in \u001b[0;36m__init__\u001b[0;34m(self, name, sheet_name, fetch_grid, readonly)\u001b[0m\n\u001b[1;32m    208\u001b[0m \u001b[0;34m\u001b[0m\u001b[0m\n\u001b[1;32m    209\u001b[0m         \u001b[0mself\u001b[0m\u001b[0;34m.\u001b[0m\u001b[0mreadonly\u001b[0m \u001b[0;34m=\u001b[0m \u001b[0mreadonly\u001b[0m\u001b[0;34m\u001b[0m\u001b[0;34m\u001b[0m\u001b[0m\n\u001b[0;32m--> 210\u001b[0;31m         \u001b[0mself\u001b[0m\u001b[0;34m.\u001b[0m\u001b[0m_setup\u001b[0m\u001b[0;34m(\u001b[0m\u001b[0;34m)\u001b[0m\u001b[0;34m\u001b[0m\u001b[0;34m\u001b[0m\u001b[0m\n\u001b[0m\u001b[1;32m    211\u001b[0m         \u001b[0mself\u001b[0m\u001b[0;34m.\u001b[0m\u001b[0mfetch\u001b[0m\u001b[0;34m(\u001b[0m\u001b[0;34m)\u001b[0m\u001b[0;34m\u001b[0m\u001b[0;34m\u001b[0m\u001b[0m\n\u001b[1;32m    212\u001b[0m \u001b[0;34m\u001b[0m\u001b[0m\n",
      "\u001b[0;32m~/Dropbox/git/pyontutils/pyontutils/sheets.py\u001b[0m in \u001b[0;36m_setup\u001b[0;34m(self)\u001b[0m\n\u001b[1;32m    214\u001b[0m         \u001b[0;32mif\u001b[0m \u001b[0mself\u001b[0m\u001b[0;34m.\u001b[0m\u001b[0mreadonly\u001b[0m\u001b[0;34m:\u001b[0m\u001b[0;34m\u001b[0m\u001b[0;34m\u001b[0m\u001b[0m\n\u001b[1;32m    215\u001b[0m             \u001b[0;32mif\u001b[0m \u001b[0;32mnot\u001b[0m \u001b[0mhasattr\u001b[0m\u001b[0;34m(\u001b[0m\u001b[0mSheet\u001b[0m\u001b[0;34m,\u001b[0m \u001b[0;34m'__spreadsheet_service_ro'\u001b[0m\u001b[0;34m)\u001b[0m\u001b[0;34m:\u001b[0m\u001b[0;34m\u001b[0m\u001b[0;34m\u001b[0m\u001b[0m\n\u001b[0;32m--> 216\u001b[0;31m                 \u001b[0mservice\u001b[0m \u001b[0;34m=\u001b[0m \u001b[0mget_oauth_service\u001b[0m\u001b[0;34m(\u001b[0m\u001b[0mreadonly\u001b[0m\u001b[0;34m=\u001b[0m\u001b[0mself\u001b[0m\u001b[0;34m.\u001b[0m\u001b[0mreadonly\u001b[0m\u001b[0;34m)\u001b[0m  \u001b[0;31m# I think it is correct to keep this ephimoral\u001b[0m\u001b[0;34m\u001b[0m\u001b[0;34m\u001b[0m\u001b[0m\n\u001b[0m\u001b[1;32m    217\u001b[0m                 \u001b[0mSheet\u001b[0m\u001b[0;34m.\u001b[0m\u001b[0m__spreadsheet_service_ro\u001b[0m \u001b[0;34m=\u001b[0m \u001b[0mservice\u001b[0m\u001b[0;34m.\u001b[0m\u001b[0mspreadsheets\u001b[0m\u001b[0;34m(\u001b[0m\u001b[0;34m)\u001b[0m\u001b[0;34m\u001b[0m\u001b[0;34m\u001b[0m\u001b[0m\n\u001b[1;32m    218\u001b[0m \u001b[0;34m\u001b[0m\u001b[0m\n",
      "\u001b[0;32m~/Dropbox/git/pyontutils/pyontutils/sheets.py\u001b[0m in \u001b[0;36mget_oauth_service\u001b[0;34m(api, version, readonly, SCOPES)\u001b[0m\n\u001b[1;32m     59\u001b[0m     \u001b[0mstore_file\u001b[0m \u001b[0;34m=\u001b[0m \u001b[0mauth\u001b[0m\u001b[0;34m.\u001b[0m\u001b[0mget_path\u001b[0m\u001b[0;34m(\u001b[0m\u001b[0m_auth_var\u001b[0m\u001b[0;34m)\u001b[0m\u001b[0;34m\u001b[0m\u001b[0;34m\u001b[0m\u001b[0m\n\u001b[1;32m     60\u001b[0m \u001b[0;34m\u001b[0m\u001b[0m\n\u001b[0;32m---> 61\u001b[0;31m     \u001b[0;32mif\u001b[0m \u001b[0mstore_file\u001b[0m\u001b[0;34m.\u001b[0m\u001b[0mexists\u001b[0m\u001b[0;34m(\u001b[0m\u001b[0;34m)\u001b[0m\u001b[0;34m:\u001b[0m\u001b[0;34m\u001b[0m\u001b[0;34m\u001b[0m\u001b[0m\n\u001b[0m\u001b[1;32m     62\u001b[0m         \u001b[0;32mwith\u001b[0m \u001b[0mopen\u001b[0m\u001b[0;34m(\u001b[0m\u001b[0mstore_file\u001b[0m\u001b[0;34m,\u001b[0m \u001b[0;34m'rb'\u001b[0m\u001b[0;34m)\u001b[0m \u001b[0;32mas\u001b[0m \u001b[0mf\u001b[0m\u001b[0;34m:\u001b[0m\u001b[0;34m\u001b[0m\u001b[0;34m\u001b[0m\u001b[0m\n\u001b[1;32m     63\u001b[0m             \u001b[0;32mtry\u001b[0m\u001b[0;34m:\u001b[0m\u001b[0;34m\u001b[0m\u001b[0;34m\u001b[0m\u001b[0m\n",
      "\u001b[0;31mAttributeError\u001b[0m: 'NoneType' object has no attribute 'exists'"
     ]
    }
   ],
   "source": [
    "from pyontutils.sheets import Sheet\n",
    "import pandas as pd\n",
    "KEY_NAME = 'sparc-terms'\n",
    "SHEET_NAME = 'Minimal information model(MIS)'\n",
    "\n",
    "class Brainstem(Sheet):\n",
    "    name = KEY_NAME # key name you gave the google sheet id value in secrets.yaml\n",
    "    sheet_name = SHEET_NAME # the actual sheet name on the google sheet\n",
    "    fetch_grid = True # meta data in self.grid that has detials like bolding\n",
    "\n",
    "brainstem = Brainstem()\n",
    "df = pd.DataFrame(brainstem.raw_values)\n",
    "df.columns = df.iloc[0]\n",
    "df.drop(df.index[0], inplace=True)\n",
    "df.head()"
   ]
  },
  {
   "cell_type": "code",
   "execution_count": 8,
   "metadata": {},
   "outputs": [
    {
     "data": {
      "text/plain": [
       "['abdominal cavity',\n",
       " 'abdominal wall',\n",
       " 'adipose tissue',\n",
       " 'adult organism',\n",
       " 'alimentary part of gastrointestinal system',\n",
       " 'arterial blood',\n",
       " 'biceps femoris',\n",
       " 'blood',\n",
       " 'bolus of food',\n",
       " 'brainstem']"
      ]
     },
     "execution_count": 8,
     "metadata": {},
     "output_type": "execute_result"
    }
   ],
   "source": [
    "list(df.term)[:10]"
   ]
  },
  {
   "cell_type": "markdown",
   "metadata": {},
   "source": [
    "# CSV or TSV  EXAMPLE"
   ]
  },
  {
   "cell_type": "raw",
   "metadata": {},
   "source": [
    "import pandas as pd\n",
    "\n",
    "csv_df = pd.DataFrame('/path/to/csv')\n",
    "tsv_df = pd.DataFrame('/path/to/tsv', delimiter='\\t')\n",
    "\n",
    "csv_df.head() # returns top 5 rows\n",
    "csv_df.column_name # specific column name will return a Series which will act like a list"
   ]
  },
  {
   "cell_type": "markdown",
   "metadata": {},
   "source": [
    "# QUERY DATABASES "
   ]
  },
  {
   "cell_type": "code",
   "execution_count": 3,
   "metadata": {},
   "outputs": [
    {
     "data": {
      "text/plain": [
       "[OntTerm('HBA:3999', label='brain (hba)'),\n",
       " OntTerm('FMA:50801', label='Brain'),\n",
       " OntTerm('UBERON:0000955', label='brain'),\n",
       " OntTerm('UBERON:6110636', label='adult cerebral ganglion'),\n",
       " OntTerm('ILX:0101431', label='Brain'),\n",
       " OntTerm('ILX:0101433', label='Brain Infarction'),\n",
       " OntTerm('ILX:0506386', label='Brain Aneurysm'),\n",
       " OntTerm('ILX:0433050', label='Brain Chemistry'),\n",
       " OntTerm('ILX:0641746', label='alpha BRAIN'),\n",
       " OntTerm('ILX:0726394', label='brain meninx'),\n",
       " OntTerm('ILX:0729002', label='brain commissure'),\n",
       " OntTerm('ILX:0101434', label='Brain Ischemia'),\n",
       " OntTerm('ILX:0461406', label='Brain Death'),\n",
       " OntTerm('ILX:0733041', label='brain endothelium')]"
      ]
     },
     "execution_count": 3,
     "metadata": {},
     "output_type": "execute_result"
    }
   ],
   "source": [
    "# Give \"query\" a usable parameter to query the databases \n",
    "from pyontutils.core import query # OntTerm\n",
    "query(term='brain')"
   ]
  },
  {
   "cell_type": "code",
   "execution_count": 4,
   "metadata": {},
   "outputs": [
    {
     "data": {
      "text/plain": [
       "[OntTerm('ILX:0103358', label='DN1 neuron'),\n",
       " OntTerm('ILX:0109525', label='Pupal DN1 period neuron')]"
      ]
     },
     "execution_count": 4,
     "metadata": {},
     "output_type": "execute_result"
    }
   ],
   "source": [
    "# similar entities will show\n",
    "# default limit is 10\n",
    "query(term='DN1 neuron', limit=2) "
   ]
  },
  {
   "cell_type": "code",
   "execution_count": 5,
   "metadata": {},
   "outputs": [
    {
     "data": {
      "text/plain": [
       "[OntTerm('UBERON:0000955', label='brain')]"
      ]
     },
     "execution_count": 5,
     "metadata": {},
     "output_type": "execute_result"
    }
   ],
   "source": [
    "# Faster and more accurate with curie/iri\n",
    "query(curie='UBERON:0000955')"
   ]
  },
  {
   "cell_type": "code",
   "execution_count": 6,
   "metadata": {},
   "outputs": [
    {
     "data": {
      "text/plain": [
       "{'prefix': 'UBERON',\n",
       " 'suffix': '0000955',\n",
       " 'orig_kwargs': {'iri': 'http://purl.obolibrary.org/obo/UBERON_0000955',\n",
       "  'curie_or_iri': None,\n",
       "  'label': None,\n",
       "  'term': None,\n",
       "  'search': None,\n",
       "  'validated': None,\n",
       "  'query': None},\n",
       " 'kwargs': {'iri': 'http://purl.obolibrary.org/obo/UBERON_0000955',\n",
       "  'curie_or_iri': None,\n",
       "  'label': None,\n",
       "  'term': None,\n",
       "  'search': None,\n",
       "  'validated': None,\n",
       "  'query': None},\n",
       " 'label': 'brain',\n",
       " 'labels': ['brain'],\n",
       " 'definition': 'The brain is the center of the nervous system in all vertebrate, and most invertebrate, animals. Some primitive animals such as jellyfish and starfish have a decentralized nervous system without a brain, while sponges lack any nervous system at all. In vertebrates, the brain is located in the head, protected by the skull and close to the primary sensory apparatus of vision, hearing, balance, taste, and smell[WP].',\n",
       " 'synonyms': ['the brain',\n",
       "  'synganglion',\n",
       "  'suprasegmental structures',\n",
       "  'suprasegmental levels of nervous system',\n",
       "  'encephalon'],\n",
       " 'deprecated': False,\n",
       " 'predicates': {},\n",
       " '_type': OntId('owl:Class'),\n",
       " '_types': (OntId('owl:Class'),),\n",
       " '_graph': None,\n",
       " '_source': <ontquery.plugins.services.SciGraphRemote at 0x7f13e5a0d1d0>,\n",
       " 'validated': True,\n",
       " '_query_result': QueryResult({'iri': 'http://purl.obolibrary.org/obo/UBERON_0000955', 'curie': 'UBERON:0000955', 'label': 'brain', 'labels': ['brain'], 'definition': 'The brain is the center of the nervous system in all vertebrate, and most invertebrate, animals. Some primitive animals such as jellyfish and starfish have a decentralized nervous system without a brain, while sponges lack any nervous system at all. In vertebrates, the brain is located in the head, protected by the skull and close to the primary sensory apparatus of vision, hearing, balance, taste, and smell[WP].', 'synonyms': ['the brain', 'synganglion', 'suprasegmental structures', 'suprasegmental levels of nervous system', 'encephalon'], 'deprecated': False, 'predicates': {}, 'type': OntId('owl:Class'), 'types': (OntId('owl:Class'),), '_graph': None, 'source': <ontquery.plugins.services.SciGraphRemote object at 0x7f13e5a0d1d0>})}"
      ]
     },
     "execution_count": 6,
     "metadata": {},
     "output_type": "execute_result"
    }
   ],
   "source": [
    "entity = query(curie='UBERON:0000955')[0]\n",
    "# Full result attribute\n",
    "vars(entity)"
   ]
  },
  {
   "cell_type": "markdown",
   "metadata": {},
   "source": [
    "# DEBUGGING HINT\n",
    "- 1 \"?\" at the end of a function or class will return its params, docstring, and pathing. \n",
    "- 2 \"??\" returns the ENTIRE class/functions "
   ]
  },
  {
   "cell_type": "code",
   "execution_count": 7,
   "metadata": {},
   "outputs": [
    {
     "data": {
      "text/plain": [
       "\u001b[0;31mSignature:\u001b[0m      \u001b[0mquery\u001b[0m\u001b[0;34m(\u001b[0m\u001b[0;34m*\u001b[0m\u001b[0margs\u001b[0m\u001b[0;34m,\u001b[0m \u001b[0;34m**\u001b[0m\u001b[0mkwargs\u001b[0m\u001b[0;34m)\u001b[0m\u001b[0;34m\u001b[0m\u001b[0;34m\u001b[0m\u001b[0m\n",
       "\u001b[0;31mCall signature:\u001b[0m\n",
       "\u001b[0mquery\u001b[0m\u001b[0;34m(\u001b[0m\u001b[0;34m\u001b[0m\n",
       "\u001b[0;34m\u001b[0m    \u001b[0mterm\u001b[0m\u001b[0;34m=\u001b[0m\u001b[0;32mNone\u001b[0m\u001b[0;34m,\u001b[0m\u001b[0;34m\u001b[0m\n",
       "\u001b[0;34m\u001b[0m    \u001b[0mprefix\u001b[0m\u001b[0;34m=\u001b[0m\u001b[0;34m(\u001b[0m\u001b[0;34m)\u001b[0m\u001b[0;34m,\u001b[0m\u001b[0;34m\u001b[0m\n",
       "\u001b[0;34m\u001b[0m    \u001b[0mcategory\u001b[0m\u001b[0;34m=\u001b[0m\u001b[0;32mNone\u001b[0m\u001b[0;34m,\u001b[0m\u001b[0;34m\u001b[0m\n",
       "\u001b[0;34m\u001b[0m    \u001b[0mlabel\u001b[0m\u001b[0;34m=\u001b[0m\u001b[0;32mNone\u001b[0m\u001b[0;34m,\u001b[0m\u001b[0;34m\u001b[0m\n",
       "\u001b[0;34m\u001b[0m    \u001b[0mabbrev\u001b[0m\u001b[0;34m=\u001b[0m\u001b[0;32mNone\u001b[0m\u001b[0;34m,\u001b[0m\u001b[0;34m\u001b[0m\n",
       "\u001b[0;34m\u001b[0m    \u001b[0msearch\u001b[0m\u001b[0;34m=\u001b[0m\u001b[0;32mNone\u001b[0m\u001b[0;34m,\u001b[0m\u001b[0;34m\u001b[0m\n",
       "\u001b[0;34m\u001b[0m    \u001b[0msuffix\u001b[0m\u001b[0;34m=\u001b[0m\u001b[0;32mNone\u001b[0m\u001b[0;34m,\u001b[0m\u001b[0;34m\u001b[0m\n",
       "\u001b[0;34m\u001b[0m    \u001b[0mcurie\u001b[0m\u001b[0;34m=\u001b[0m\u001b[0;32mNone\u001b[0m\u001b[0;34m,\u001b[0m\u001b[0;34m\u001b[0m\n",
       "\u001b[0;34m\u001b[0m    \u001b[0miri\u001b[0m\u001b[0;34m=\u001b[0m\u001b[0;32mNone\u001b[0m\u001b[0;34m,\u001b[0m\u001b[0;34m\u001b[0m\n",
       "\u001b[0;34m\u001b[0m    \u001b[0mpredicates\u001b[0m\u001b[0;34m=\u001b[0m\u001b[0;34m(\u001b[0m\u001b[0;34m)\u001b[0m\u001b[0;34m,\u001b[0m\u001b[0;34m\u001b[0m\n",
       "\u001b[0;34m\u001b[0m    \u001b[0mexclude_prefix\u001b[0m\u001b[0;34m=\u001b[0m\u001b[0;34m(\u001b[0m\u001b[0;34m)\u001b[0m\u001b[0;34m,\u001b[0m\u001b[0;34m\u001b[0m\n",
       "\u001b[0;34m\u001b[0m    \u001b[0mdepth\u001b[0m\u001b[0;34m=\u001b[0m\u001b[0;36m1\u001b[0m\u001b[0;34m,\u001b[0m\u001b[0;34m\u001b[0m\n",
       "\u001b[0;34m\u001b[0m    \u001b[0mdirection\u001b[0m\u001b[0;34m=\u001b[0m\u001b[0;34m'OUTGOING'\u001b[0m\u001b[0;34m,\u001b[0m\u001b[0;34m\u001b[0m\n",
       "\u001b[0;34m\u001b[0m    \u001b[0mlimit\u001b[0m\u001b[0;34m=\u001b[0m\u001b[0;36m10\u001b[0m\u001b[0;34m,\u001b[0m\u001b[0;34m\u001b[0m\n",
       "\u001b[0;34m\u001b[0m    \u001b[0minclude_deprecated\u001b[0m\u001b[0;34m=\u001b[0m\u001b[0;32mFalse\u001b[0m\u001b[0;34m,\u001b[0m\u001b[0;34m\u001b[0m\n",
       "\u001b[0;34m\u001b[0m\u001b[0;34m)\u001b[0m\u001b[0;34m\u001b[0m\u001b[0;34m\u001b[0m\u001b[0m\n",
       "\u001b[0;31mType:\u001b[0m           OntQueryCli\n",
       "\u001b[0;31mString form:\u001b[0m    <ontquery.query.OntQueryCli object at 0x7f13e5c53e10>\n",
       "\u001b[0;31mFile:\u001b[0m           ~/Dropbox/git/ontquery/ontquery/query.py\n",
       "\u001b[0;31mDocstring:\u001b[0m      <no docstring>\n"
      ]
     },
     "metadata": {},
     "output_type": "display_data"
    }
   ],
   "source": [
    "query?"
   ]
  },
  {
   "cell_type": "markdown",
   "metadata": {},
   "source": [
    "# BONUS!"
   ]
  },
  {
   "cell_type": "markdown",
   "metadata": {},
   "source": [
    "### Concurrently search! (Run multiple query functions at the same time)"
   ]
  },
  {
   "cell_type": "code",
   "execution_count": 8,
   "metadata": {},
   "outputs": [
    {
     "name": "stdout",
     "output_type": "stream",
     "text": [
      "Futures compiled\n"
     ]
    },
    {
     "data": {
      "text/plain": [
       "[({'curie': 'UBERON:0000955'}, [OntTerm('UBERON:0000955', label='brain')]),\n",
       " ({'curie': 'UBERON:6110636'},\n",
       "  [OntTerm('UBERON:6110636', label='adult cerebral ganglion')])]"
      ]
     },
     "execution_count": 8,
     "metadata": {},
     "output_type": "execute_result"
    }
   ],
   "source": [
    "from pyontutils.utils import Async, deferred\n",
    "from pyontutils.core import OntTerm, ixr, query\n",
    "from typing import List, Tuple\n",
    "\n",
    "# query.setup()\n",
    "\n",
    "def queries(kwargs_list:List[dict]) -> List[Tuple[str, dict]]:\n",
    "    '''Asynchronously query databases to dramatically increase runtime un users end \n",
    "    \n",
    "    Examples:\n",
    "        >>> queries([{'term':'Brain'},])\n",
    "        [({'term': 'Brain'},\n",
    "          [OntTerm('HBA:3999', label='brain (hba)'),\n",
    "           OntTerm('FMA:50801', label='Brain'),\n",
    "           OntTerm('UBERON:0000955', label='brain'),\n",
    "           OntTerm('UBERON:6110636', label='adult cerebral ganglion')])]\n",
    "        >>> queries([{'curie':'UBERON:0000955'},])\n",
    "        [({'curie': 'UBERON:0000955'}, [OntTerm('UBERON:0000955', label='brain')])]\n",
    "        \n",
    "    Definitions:\n",
    "        kwargs == common name given to dictionary input for function\n",
    "        tuple == a list that you cannot update. \n",
    "        lambda == short-hand for single line function creation (func = lambda <input>: <output>)  \n",
    "        \n",
    "    Args:\n",
    "        kwargs_list (list): A list of dictionaries that are paramaters for the query function\n",
    "    \n",
    "    Returns:\n",
    "        List[tuple]: A list of tuples all being of (<input>, <query_result>).    \n",
    "    '''\n",
    "    # create a query function wrapper to return tuple\n",
    "    # kwargs -> (kwargs, query_result)\n",
    "    # We do this in case 2+ queries return the same results & the output WILL NOT have the same input order\n",
    "    gin = lambda kwargs: (kwargs, query(**kwargs))\n",
    "    # run each query instance at the same time\n",
    "    results = Async(use_nest_asyncio=True)(deferred(gin)(kwargs) for kwargs in kwargs_list)\n",
    "    return results \n",
    "\n",
    "queries([{'curie':'UBERON:0000955'}, {'curie':'UBERON:6110636'}])"
   ]
  },
  {
   "cell_type": "code",
   "execution_count": null,
   "metadata": {},
   "outputs": [],
   "source": [
    "from pyontutils.utils import Async, deferred\n",
    "from pyontutils.core import OntTerm, ixr, query\n",
    "from typing import List, Tuple\n",
    "def queries(url_list:List[dict]) -> List[Tuple[str, dict]]:\n",
    "    def gin(url):\n",
    "        return requests.get(url).text\n",
    "    # run each query instance at the same time\n",
    "    results = Async(limit=5)(deferred(gin)(url) for url in url_list)\n",
    "    return results \n",
    "list_tuples(url, html)"
   ]
  },
  {
   "cell_type": "markdown",
   "metadata": {},
   "source": [
    "# Modifing TEST InterLex"
   ]
  },
  {
   "cell_type": "code",
   "execution_count": 1,
   "metadata": {},
   "outputs": [],
   "source": [
    "# TEST InterLex endpoints\n",
    "from ilxutils.remotes import interlex_remote_test as ixrt"
   ]
  },
  {
   "cell_type": "markdown",
   "metadata": {},
   "source": [
    "# GET ENTITY"
   ]
  },
  {
   "cell_type": "code",
   "execution_count": 2,
   "metadata": {},
   "outputs": [
    {
     "data": {
      "text/plain": [
       "{'id': '661544',\n",
       " 'orig_uid': '34142',\n",
       " 'uid': '34142',\n",
       " 'orig_cid': '0',\n",
       " 'cid': '0',\n",
       " 'ilx': 'ilx_0738390',\n",
       " 'label': 'Offical label',\n",
       " 'type': 'term',\n",
       " 'definition': 'official definition',\n",
       " 'comment': 'helpful misc',\n",
       " 'version': '3',\n",
       " 'status': '0',\n",
       " 'display_superclass': '1',\n",
       " 'orig_time': '1564695195',\n",
       " 'time': '1570826848',\n",
       " 'synonyms': [{'id': '1776645',\n",
       "   'tid': '661544',\n",
       "   'literal': 'Encephalon',\n",
       "   'type': '',\n",
       "   'time': '1570826848',\n",
       "   'version': '3'},\n",
       "  {'id': '1776646',\n",
       "   'tid': '661544',\n",
       "   'literal': 'Cerebro',\n",
       "   'type': '',\n",
       "   'time': '1570826848',\n",
       "   'version': '3'}],\n",
       " 'superclasses': [],\n",
       " 'existing_ids': [{'id': '3885545',\n",
       "   'tid': '661544',\n",
       "   'curie': 'ILX:0738390',\n",
       "   'iri': 'http://uri.interlex.org/base/ilx_0738390',\n",
       "   'curie_catalog_id': '3885424',\n",
       "   'version': '3',\n",
       "   'time': '1570826848',\n",
       "   'preferred': '1'}],\n",
       " 'relationships': [],\n",
       " 'mappings': [],\n",
       " 'annotations': [],\n",
       " 'ontologies': []}"
      ]
     },
     "execution_count": 2,
     "metadata": {},
     "output_type": "execute_result"
    }
   ],
   "source": [
    "ixrt.ilx_cli.get_entity('tmp_0738390')"
   ]
  },
  {
   "cell_type": "markdown",
   "metadata": {},
   "source": [
    "# ADD"
   ]
  },
  {
   "cell_type": "code",
   "execution_count": 2,
   "metadata": {},
   "outputs": [
    {
     "data": {
      "text/plain": [
       "\u001b[0;31mSignature:\u001b[0m\n",
       "\u001b[0mixrt\u001b[0m\u001b[0;34m.\u001b[0m\u001b[0madd_entity\u001b[0m\u001b[0;34m(\u001b[0m\u001b[0;34m\u001b[0m\n",
       "\u001b[0;34m\u001b[0m    \u001b[0mtype\u001b[0m\u001b[0;34m,\u001b[0m\u001b[0;34m\u001b[0m\n",
       "\u001b[0;34m\u001b[0m    \u001b[0msubThingOf\u001b[0m\u001b[0;34m,\u001b[0m\u001b[0;34m\u001b[0m\n",
       "\u001b[0;34m\u001b[0m    \u001b[0mlabel\u001b[0m\u001b[0;34m,\u001b[0m\u001b[0;34m\u001b[0m\n",
       "\u001b[0;34m\u001b[0m    \u001b[0mdefinition\u001b[0m\u001b[0;34m:\u001b[0m \u001b[0mstr\u001b[0m \u001b[0;34m=\u001b[0m \u001b[0;32mNone\u001b[0m\u001b[0;34m,\u001b[0m\u001b[0;34m\u001b[0m\n",
       "\u001b[0;34m\u001b[0m    \u001b[0msynonyms\u001b[0m\u001b[0;34m=\u001b[0m\u001b[0;34m(\u001b[0m\u001b[0;34m)\u001b[0m\u001b[0;34m,\u001b[0m\u001b[0;34m\u001b[0m\n",
       "\u001b[0;34m\u001b[0m    \u001b[0mcomment\u001b[0m\u001b[0;34m:\u001b[0m \u001b[0mstr\u001b[0m \u001b[0;34m=\u001b[0m \u001b[0;32mNone\u001b[0m\u001b[0;34m,\u001b[0m\u001b[0;34m\u001b[0m\n",
       "\u001b[0;34m\u001b[0m    \u001b[0mpredicates\u001b[0m\u001b[0;34m:\u001b[0m \u001b[0mdict\u001b[0m \u001b[0;34m=\u001b[0m \u001b[0;32mNone\u001b[0m\u001b[0;34m,\u001b[0m\u001b[0;34m\u001b[0m\n",
       "\u001b[0;34m\u001b[0m\u001b[0;34m)\u001b[0m\u001b[0;34m\u001b[0m\u001b[0;34m\u001b[0m\u001b[0m\n",
       "\u001b[0;31mDocstring:\u001b[0m <no docstring>\n",
       "\u001b[0;31mFile:\u001b[0m      ~/Dropbox/git/ontquery/ontquery/plugins/services.py\n",
       "\u001b[0;31mType:\u001b[0m      method\n"
      ]
     },
     "metadata": {},
     "output_type": "display_data"
    }
   ],
   "source": [
    "ixrt.add_entity?"
   ]
  },
  {
   "cell_type": "code",
   "execution_count": 3,
   "metadata": {},
   "outputs": [
    {
     "name": "stdout",
     "output_type": "stream",
     "text": [
      "QueryResult({'iri': 'http://uri.interlex.org/base/ilx_0738390', 'curie': 'ILX:0738390', 'label': 'official test label', 'labels': (), 'definition': 'definition', 'synonyms': ('Encephalon', 'Cerebro'), 'deprecated': None, 'predicates': {'comment': 'helpful misc'}, 'type': None, 'types': (), '_graph': None, 'source': <ontquery.plugins.services.InterLexRemote object at 0x7fb7d04abf28>})\n"
     ]
    }
   ],
   "source": [
    "entity = dict(\n",
    "    label = 'offical label', # Can only one unique label per person\n",
    "    type = 'term', # OPTIONS: term, annotation, relationship, cde, fde, pde\n",
    "    definition = 'official definition',\n",
    "    comment = 'helpful misc',\n",
    "    # Optional\n",
    "    subThingOf = '', # WARNING ::: must have at last '', can be blank but please fill this in if you can. \n",
    "    synonyms = ['Encephalon', 'Cerebro'],\n",
    "    predicates = {} # annotations and/or relationships to add\n",
    "    # TODO: existing_ids will be an option later\n",
    ")\n",
    "result = ixrt.add_entity(**entity)\n",
    "print(result)"
   ]
  },
  {
   "cell_type": "markdown",
   "metadata": {},
   "source": [
    "# UPDATE"
   ]
  },
  {
   "cell_type": "code",
   "execution_count": 4,
   "metadata": {},
   "outputs": [
    {
     "data": {
      "text/plain": [
       "\u001b[0;31mSignature:\u001b[0m\n",
       "\u001b[0mixrt\u001b[0m\u001b[0;34m.\u001b[0m\u001b[0mupdate_entity\u001b[0m\u001b[0;34m(\u001b[0m\u001b[0;34m\u001b[0m\n",
       "\u001b[0;34m\u001b[0m    \u001b[0milx_id\u001b[0m\u001b[0;34m:\u001b[0m \u001b[0mstr\u001b[0m \u001b[0;34m=\u001b[0m \u001b[0;32mNone\u001b[0m\u001b[0;34m,\u001b[0m\u001b[0;34m\u001b[0m\n",
       "\u001b[0;34m\u001b[0m    \u001b[0mtype\u001b[0m\u001b[0;34m:\u001b[0m \u001b[0mstr\u001b[0m \u001b[0;34m=\u001b[0m \u001b[0;32mNone\u001b[0m\u001b[0;34m,\u001b[0m\u001b[0;34m\u001b[0m\n",
       "\u001b[0;34m\u001b[0m    \u001b[0msubThingOf\u001b[0m\u001b[0;34m:\u001b[0m \u001b[0mstr\u001b[0m \u001b[0;34m=\u001b[0m \u001b[0;32mNone\u001b[0m\u001b[0;34m,\u001b[0m\u001b[0;34m\u001b[0m\n",
       "\u001b[0;34m\u001b[0m    \u001b[0mlabel\u001b[0m\u001b[0;34m:\u001b[0m \u001b[0mstr\u001b[0m \u001b[0;34m=\u001b[0m \u001b[0;32mNone\u001b[0m\u001b[0;34m,\u001b[0m\u001b[0;34m\u001b[0m\n",
       "\u001b[0;34m\u001b[0m    \u001b[0mdefinition\u001b[0m\u001b[0;34m:\u001b[0m \u001b[0mstr\u001b[0m \u001b[0;34m=\u001b[0m \u001b[0;32mNone\u001b[0m\u001b[0;34m,\u001b[0m\u001b[0;34m\u001b[0m\n",
       "\u001b[0;34m\u001b[0m    \u001b[0msynonyms\u001b[0m\u001b[0;34m=\u001b[0m\u001b[0;34m(\u001b[0m\u001b[0;34m)\u001b[0m\u001b[0;34m,\u001b[0m\u001b[0;34m\u001b[0m\n",
       "\u001b[0;34m\u001b[0m    \u001b[0mcomment\u001b[0m\u001b[0;34m:\u001b[0m \u001b[0mstr\u001b[0m \u001b[0;34m=\u001b[0m \u001b[0;32mNone\u001b[0m\u001b[0;34m,\u001b[0m\u001b[0;34m\u001b[0m\n",
       "\u001b[0;34m\u001b[0m    \u001b[0mpredicates_to_add\u001b[0m\u001b[0;34m:\u001b[0m \u001b[0mdict\u001b[0m \u001b[0;34m=\u001b[0m \u001b[0;32mNone\u001b[0m\u001b[0;34m,\u001b[0m\u001b[0;34m\u001b[0m\n",
       "\u001b[0;34m\u001b[0m    \u001b[0mpredicates_to_delete\u001b[0m\u001b[0;34m:\u001b[0m \u001b[0mdict\u001b[0m \u001b[0;34m=\u001b[0m \u001b[0;32mNone\u001b[0m\u001b[0;34m,\u001b[0m\u001b[0;34m\u001b[0m\n",
       "\u001b[0;34m\u001b[0m\u001b[0;34m)\u001b[0m\u001b[0;34m\u001b[0m\u001b[0;34m\u001b[0m\u001b[0m\n",
       "\u001b[0;31mDocstring:\u001b[0m <no docstring>\n",
       "\u001b[0;31mFile:\u001b[0m      ~/Dropbox/git/ontquery/ontquery/plugins/services.py\n",
       "\u001b[0;31mType:\u001b[0m      method\n"
      ]
     },
     "metadata": {},
     "output_type": "display_data"
    }
   ],
   "source": [
    "ixrt.update_entity?"
   ]
  },
  {
   "cell_type": "code",
   "execution_count": 8,
   "metadata": {},
   "outputs": [
    {
     "name": "stderr",
     "output_type": "stream",
     "text": [
      "\u001b[32m[2019-10-11 13:47:28,619]\u001b[0m - \u001b[32m    INFO\u001b[0m -       ontquery - \u001b[34minterlex_client.py:796 \u001b[0m - {'ilx_id': 'ILX:0738390', 'label': 'Offical label', 'type': 'term', 'definition': 'official definition', 'comment': 'helpful misc', 'superclass': '', 'synonyms': ['Encephalon', 'Cerebro']}\u001b[0m\n"
     ]
    },
    {
     "name": "stdout",
     "output_type": "stream",
     "text": [
      "QueryResult({'iri': 'http://uri.interlex.org/base/ilx_0738390', 'curie': 'ILX:0738390', 'label': 'Offical label', 'labels': (), 'definition': 'official definition', 'synonyms': ('Encephalon', 'Cerebro'), 'deprecated': None, 'predicates': {'comment': 'helpful misc'}, 'type': None, 'types': (), '_graph': None, 'source': <ontquery.plugins.services.InterLexRemote object at 0x7fb7d04abf28>})\n"
     ]
    }
   ],
   "source": [
    "from ilxutils.remotes import interlex_remote_test as ixrt\n",
    "entity = dict(\n",
    "    ilx_id = 'ILX:0738390',\n",
    "    label = 'Offical label', # Can only one unique label per person\n",
    "    type = 'term', # OPTIONS: term, annotation, relationship, cde, fde, pde\n",
    "    definition = 'official definition',\n",
    "    comment = 'helpful misc',\n",
    "    # Optional\n",
    "    subThingOf = '', # WARNING ::: must have at last '', can be blank but please fill this in if you can. \n",
    "    synonyms = ['Encephalon', 'Cerebro'],\n",
    "    predicates_to_add = {}, # annotations and/or relationships to add\n",
    "    predicates_to_delete = {}, # annotations and/or relationships to del\n",
    "    # TODO: existing_ids will be an option later\n",
    ")\n",
    "result = ixrt.update_entity(**entity)\n",
    "print(result)"
   ]
  },
  {
   "cell_type": "markdown",
   "metadata": {},
   "source": [
    "# PRODUCTION \n",
    "# BE CAREFUL PLEASE :)"
   ]
  },
  {
   "cell_type": "code",
   "execution_count": 3,
   "metadata": {},
   "outputs": [],
   "source": [
    "# PRODUCTION \n",
    "from ilxutils.remotes import interlex_remote_production as ixr\n",
    "# BE CAREFUL :)"
   ]
  }
 ],
 "metadata": {
  "kernelspec": {
   "display_name": "Python 3",
   "language": "python",
   "name": "python3"
  },
  "language_info": {
   "codemirror_mode": {
    "name": "ipython",
    "version": 3
   },
   "file_extension": ".py",
   "mimetype": "text/x-python",
   "name": "python",
   "nbconvert_exporter": "python",
   "pygments_lexer": "ipython3",
   "version": "3.7.4"
  }
 },
 "nbformat": 4,
 "nbformat_minor": 4
}
