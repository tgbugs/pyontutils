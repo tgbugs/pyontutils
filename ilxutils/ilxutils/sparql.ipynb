{
 "cells": [
  {
   "cell_type": "code",
   "execution_count": 5,
   "metadata": {},
   "outputs": [],
   "source": [
    "from pyontutils.core import OntResIri\n",
    "g = OntResIri('https://cassava.ucsd.edu/sparc/exports/curation-export.ttl').graph"
   ]
  },
  {
   "cell_type": "code",
   "execution_count": 9,
   "metadata": {},
   "outputs": [],
   "source": [
    "q2=\"\"\"\n",
    "SELECT ?subj ?pred ?obj\n",
    "WHERE {\n",
    "<https://api.blackfynn.io/datasets/N:dataset:c2a014b8-2c15-4269-b10a-3345420e3d56/subjects/53> TEMP:hasDerivedInformationAsParticipant ?obj .\n",
    "?subj TEMP:hasDerivedInformationAsParticipant ?obj .\n",
    "}\n",
    "\"\"\"\n",
    "\n",
    "templates = SparqlQueryTemplates(g.namespace_manager)\n",
    "q = templates.dataset_group(\n",
    "    subject='https://api.blackfynn.io/datasets/N:dataset:bc4071fd-aba1-4fe5-a59e-3da5affbc5fb/subjects/10653',\n",
    ")\n",
    "# print(q)\n",
    "ts = []\n",
    "sp = g.query(q2)"
   ]
  },
  {
   "cell_type": "code",
   "execution_count": 211,
   "metadata": {},
   "outputs": [
    {
     "data": {
      "text/plain": [
       "True"
      ]
     },
     "execution_count": 211,
     "metadata": {},
     "output_type": "execute_result"
    }
   ],
   "source": [
    "from typing import Union, Dict, List, Tuple\n",
    "import unittest\n",
    "\n",
    "import rdflib\n",
    "from rdflib.plugins import sparql\n",
    "import pytest\n",
    "\n",
    "from pyontutils.core import OntResIri\n",
    "\n",
    "Semantic = Union[rdflib.URIRef, rdflib.Literal, rdflib.BNode]\n",
    "\n",
    "\n",
    "class TestCurationExportTtl:\n",
    "\n",
    "    def __init__(self):\n",
    "        self.ori = OntResIri('https://cassava.ucsd.edu/sparc/exports/curation-export.ttl')\n",
    "        self.graph = self.ori.graph\n",
    "        self.spaql_templates = SparqlQueryTemplates(self.graph)\n",
    "\n",
    "    def test_dataset_group(self):\n",
    "        \"\"\" sparql queries here \"\"\"\n",
    "        subj = rdflib.URIRef('https://api.blackfynn.io/datasets/N:dataset:c2a014b8-2c15-4269-b10a-3345420e3d56/subjects/53')\n",
    "        query = self.spaql_templates.dataset_group()\n",
    "        assert len(list(self.graph.query(query, initBindings={'target': subj}))) > 0\n",
    "\n",
    "    def test_related_datasets(self):\n",
    "        subj = rdflib.util.from_n3('dataset:bec4d335-9377-4863-9017-ecd01170f354', nsm=self.graph)\n",
    "        query = self.spaql_templates.related_datasets()\n",
    "        assert len(list(self.graph.query(query, initBindings={'target': subj}))) > 0\n",
    "\n",
    "\n",
    "class SparqlQueryTemplates:\n",
    "    \"\"\" Creates SPARQL query templates. \"\"\"\n",
    "\n",
    "    def __init__(self, nsm=None):\n",
    "        self.nsm = nsm if nsm else rdflib.Graph().namespace_manager\n",
    "        self.prefixes = {p:ns for p, ns in self.nsm.namespaces() if p}\n",
    "\n",
    "    def sparql_iri(self, iri: Union[rdflib.URIRef, str]) -> str:\n",
    "        \"\"\" Converts IRIs and curies to a usable format for SPARQL queries. \"\"\"\n",
    "        if iri.startswith('http') or isinstance(iri, rdflib.URIRef):\n",
    "            return '<'+str(iri)+'>'\n",
    "        return iri\n",
    "\n",
    "    def dataset_group(self) -> str:\n",
    "        \"\"\" Get all subject groups and dataset associated with subject input.\n",
    "\n",
    "        :returns: list of tuples containing: subject, subjects group, and subjects dataset.\n",
    "        \"\"\"\n",
    "        query = \"\"\"\n",
    "            SELECT ?subj ?group ?dataset\n",
    "            WHERE {\n",
    "                ?target TEMP:hasAssignedGroup ?group .\n",
    "                ?subj  TEMP:hasAssignedGroup ?group .\n",
    "                ?subj  TEMP:hasDerivedInformationAsParticipant ?dataset .\n",
    "            }\n",
    "        \"\"\"\n",
    "        return sparql.prepareQuery(query, initNs=self.prefixes)\n",
    "\n",
    "    def related_datasets(self) -> str:\n",
    "        \"\"\" Get all related datasets of subject.\n",
    "\n",
    "        :returns: list of tuples containing: subject & subjects shared dataset.\n",
    "        \"\"\"\n",
    "        query = \"\"\"\n",
    "            SELECT ?subj ?dataset\n",
    "            WHERE {\n",
    "                ?target TEMP:collectionTitle ?dataset .\n",
    "                ?subj  TEMP:collectionTitle ?dataset .\n",
    "            }\n",
    "        \"\"\"\n",
    "        return sparql.prepareQuery(query, initNs=self.prefixes)\n",
    "    \n",
    "TestCurationExportTtl().test_dataset_group()"
   ]
  },
  {
   "cell_type": "code",
   "execution_count": 205,
   "metadata": {},
   "outputs": [
    {
     "data": {
      "text/plain": [
       "<rdflib.plugins.sparql.sparql.Query at 0x7f56bf28af90>"
      ]
     },
     "execution_count": 205,
     "metadata": {},
     "output_type": "execute_result"
    }
   ],
   "source": [
    "t.test_dataset_group()"
   ]
  },
  {
   "cell_type": "code",
   "execution_count": 40,
   "metadata": {},
   "outputs": [
    {
     "data": {
      "text/plain": [
       "rdflib.term.URIRef('http://www.w3.org/2000/01/rdf-schema#label')"
      ]
     },
     "execution_count": 40,
     "metadata": {},
     "output_type": "execute_result"
    }
   ],
   "source": [
    "from rdflib import RDFS\n",
    "from_n3('<http://www.w3.org/2000/01/rdf-schema#label>')"
   ]
  },
  {
   "cell_type": "code",
   "execution_count": 3,
   "metadata": {},
   "outputs": [
    {
     "ename": "AttributeError",
     "evalue": "module 'rdflib.plugins' has no attribute 'sparql'",
     "output_type": "error",
     "traceback": [
      "\u001b[0;31m---------------------------------------------------------------------------\u001b[0m",
      "\u001b[0;31mAttributeError\u001b[0m                            Traceback (most recent call last)",
      "\u001b[0;32m<ipython-input-3-d238f8bfbc7a>\u001b[0m in \u001b[0;36m<module>\u001b[0;34m\u001b[0m\n\u001b[0;32m----> 1\u001b[0;31m \u001b[0mrdflib\u001b[0m\u001b[0;34m.\u001b[0m\u001b[0mplugins\u001b[0m\u001b[0;34m.\u001b[0m\u001b[0msparql\u001b[0m\u001b[0;34m.\u001b[0m\u001b[0mprepareQuery\u001b[0m\u001b[0;34m(\u001b[0m\u001b[0mquery\u001b[0m\u001b[0;34m,\u001b[0m \u001b[0minitN\u001b[0m\u001b[0;34m)\u001b[0m\u001b[0;34m\u001b[0m\u001b[0;34m\u001b[0m\u001b[0m\n\u001b[0m",
      "\u001b[0;31mAttributeError\u001b[0m: module 'rdflib.plugins' has no attribute 'sparql'"
     ]
    }
   ],
   "source": [
    "rdflib.plugins.sparql.prepareQuery(query, initN)"
   ]
  },
  {
   "cell_type": "code",
   "execution_count": null,
   "metadata": {},
   "outputs": [],
   "source": []
  },
  {
   "cell_type": "code",
   "execution_count": 4,
   "metadata": {},
   "outputs": [],
   "source": [
    "from rdflib.plugins import sparql"
   ]
  },
  {
   "cell_type": "code",
   "execution_count": 7,
   "metadata": {},
   "outputs": [
    {
     "name": "stdout",
     "output_type": "stream",
     "text": [
      "rdflib==5.0.0.dev0\n"
     ]
    }
   ],
   "source": [
    "!pip3 freeze | grep rdflib"
   ]
  },
  {
   "cell_type": "code",
   "execution_count": 2,
   "metadata": {},
   "outputs": [
    {
     "ename": "SyntaxError",
     "evalue": "invalid syntax (<ipython-input-2-e65cbd8fb82e>, line 1)",
     "output_type": "error",
     "traceback": [
      "\u001b[0;36m  File \u001b[0;32m\"<ipython-input-2-e65cbd8fb82e>\"\u001b[0;36m, line \u001b[0;32m1\u001b[0m\n\u001b[0;31m    from rdflib.plugins\u001b[0m\n\u001b[0m                       ^\u001b[0m\n\u001b[0;31mSyntaxError\u001b[0m\u001b[0;31m:\u001b[0m invalid syntax\n"
     ]
    }
   ],
   "source": [
    "from rdflib.plugins.sp"
   ]
  },
  {
   "cell_type": "code",
   "execution_count": 1,
   "metadata": {},
   "outputs": [
    {
     "ename": "AttributeError",
     "evalue": "module 'rdflib' has no attribute 'plugins'",
     "output_type": "error",
     "traceback": [
      "\u001b[0;31m---------------------------------------------------------------------------\u001b[0m",
      "\u001b[0;31mAttributeError\u001b[0m                            Traceback (most recent call last)",
      "\u001b[0;32m<ipython-input-1-67be8896f8c4>\u001b[0m in \u001b[0;36m<module>\u001b[0;34m\u001b[0m\n\u001b[1;32m      1\u001b[0m \u001b[0;32mimport\u001b[0m \u001b[0mrdflib\u001b[0m\u001b[0;34m\u001b[0m\u001b[0;34m\u001b[0m\u001b[0m\n\u001b[0;32m----> 2\u001b[0;31m \u001b[0mrdflib\u001b[0m\u001b[0;34m.\u001b[0m\u001b[0mplugins\u001b[0m\u001b[0;34m.\u001b[0m\u001b[0msparql\u001b[0m\u001b[0;34m.\u001b[0m\u001b[0mprepareQuery\u001b[0m\u001b[0;34m\u001b[0m\u001b[0;34m\u001b[0m\u001b[0m\n\u001b[0m",
      "\u001b[0;31mAttributeError\u001b[0m: module 'rdflib' has no attribute 'plugins'"
     ]
    }
   ],
   "source": [
    "import rdflib\n",
    "rdflib.plugins.sparql.prepareQuery"
   ]
  },
  {
   "cell_type": "code",
   "execution_count": 10,
   "metadata": {},
   "outputs": [],
   "source": [
    "from pyontutils.core import OntResIri\n",
    "from rdflib.plugins.sparql import prepareQuery"
   ]
  }
 ],
 "metadata": {
  "kernelspec": {
   "display_name": "Python 3",
   "language": "python",
   "name": "python3"
  },
  "language_info": {
   "codemirror_mode": {
    "name": "ipython",
    "version": 3
   },
   "file_extension": ".py",
   "mimetype": "text/x-python",
   "name": "python",
   "nbconvert_exporter": "python",
   "pygments_lexer": "ipython3",
   "version": "3.6.7"
  }
 },
 "nbformat": 4,
 "nbformat_minor": 4
}
